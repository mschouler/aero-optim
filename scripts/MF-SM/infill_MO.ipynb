{
 "cells": [
  {
   "cell_type": "markdown",
   "metadata": {},
   "source": [
    "#### Infill NOTEBOOK\n",
    "\n",
    "This notebook validates the Bayesian and non-Bayesian multi-objective adaptive infill strategies.\n",
    "\n",
    "**Notes**: the tests are performed for analytical optimization problems from Charayron et al. [(1)](https://www.sciencedirect.com/science/article/pii/S1270963823005692?via%3Dihub)."
   ]
  },
  {
   "cell_type": "code",
   "execution_count": null,
   "metadata": {},
   "outputs": [],
   "source": [
    "import matplotlib.pyplot as plt\n",
    "\n",
    "from aero_optim.mf_sm.mf_models import get_model, get_sampler, MultiObjectiveModel\n",
    "from aero_optim.mf_sm.mf_infill import compute_pareto\n",
    "\n",
    "from pymoo.indicators.igd import IGD\n",
    "from pymoo.indicators.igd_plus import IGDPlus\n",
    "from pymoo.problems import get_problem\n",
    "\n",
    "from mf_functions import zdt1_hf, zdt1_lf, zdt2_hf, zdt2_lf\n",
    "from main_mf_infill import bayesian_optimization, non_bayesian_optimization, run_NSGA2"
   ]
  },
  {
   "cell_type": "markdown",
   "metadata": {},
   "source": [
    "Select the optimization problem to solve: ZDT1 or ZDT2"
   ]
  },
  {
   "cell_type": "code",
   "execution_count": null,
   "metadata": {},
   "outputs": [],
   "source": [
    "zdt = \"zdt1\""
   ]
  },
  {
   "cell_type": "markdown",
   "metadata": {},
   "source": [
    "Compute the analytical Pareto front"
   ]
  },
  {
   "cell_type": "code",
   "execution_count": null,
   "metadata": {},
   "outputs": [],
   "source": [
    "zdt_pareto = get_problem(zdt).pareto_front()"
   ]
  },
  {
   "cell_type": "markdown",
   "metadata": {},
   "source": [
    "#### 1. Custom Bayesian infill strategy\n",
    "\n",
    "The Bayesian infill input variables are:\n",
    "\n",
    "- `seed` the random seed\n",
    "- `dim` the dimension of the problem\n",
    "- `n_lf` the number of initial low-fidelity samples to draw\n",
    "- `n_hf` the number of initial high-fidelity samples to draw\n",
    "- `n_iter` the number of infill steps\n",
    "- `infill_lf_size` the number of low-fidelity samples to compute at each infill step\n",
    "- `infill_pop_size` the population size of the sub-optimization executions\n",
    "- `infill_nb_gen` the number of generations of the sub-optimization executions\n",
    "- `bound` the DOE boundaries\n",
    "\n",
    "**Note**: the low- / high-fidelity infill ratio is 10 to 1"
   ]
  },
  {
   "cell_type": "code",
   "execution_count": null,
   "metadata": {},
   "outputs": [],
   "source": [
    "seed = 123\n",
    "dim = 6\n",
    "n_lf = 12\n",
    "n_hf = 6\n",
    "n_iter = 10\n",
    "infill_lf_size = 10\n",
    "infill_pop_size = 20\n",
    "infill_nb_gen = 50\n",
    "bound = [0, 1]"
   ]
  },
  {
   "cell_type": "markdown",
   "metadata": {},
   "source": [
    "Compute the NSGA-II Pareto front for the given problem"
   ]
  },
  {
   "cell_type": "code",
   "execution_count": null,
   "metadata": {},
   "outputs": [],
   "source": [
    "zdt_hf = zdt1_hf if zdt == \"zdt1\" else zdt2_hf\n",
    "zdt_lf = zdt1_lf if zdt == \"zdt1\" else zdt2_lf\n",
    "\n",
    "zdt_problem = run_NSGA2(zdt_hf, dim, infill_pop_size, infill_nb_gen, bound, seed)\n",
    "nsga_pareto = compute_pareto(zdt_problem.fitnesses[:, 0], zdt_problem.fitnesses[:, 1])"
   ]
  },
  {
   "cell_type": "markdown",
   "metadata": {},
   "source": [
    "Builds the nested LHS sampler"
   ]
  },
  {
   "cell_type": "code",
   "execution_count": null,
   "metadata": {},
   "outputs": [],
   "source": [
    "mf_sampler = get_sampler(dim, bounds=[0, 1], seed=seed, nested_doe=True)\n",
    "x_lf_DOE, x_hf_DOE = mf_sampler.sample_mf(n_lf, n_hf)\n",
    "y_lf_DOE = zdt_lf(x_lf_DOE)\n",
    "y_hf_DOE = zdt_hf(x_hf_DOE)"
   ]
  },
  {
   "cell_type": "markdown",
   "metadata": {},
   "source": [
    "Builds the multi-objective co-kriging model"
   ]
  },
  {
   "cell_type": "code",
   "execution_count": null,
   "metadata": {},
   "outputs": [],
   "source": [
    "model1 = get_model(model_name=\"mfsmt\", dim=dim, config_dict={}, outdir=\"\", seed=seed)\n",
    "model2 = get_model(model_name=\"mfsmt\", dim=dim, config_dict={}, outdir=\"\", seed=seed)\n",
    "mfsmt = MultiObjectiveModel([model1, model2])\n",
    "mfsmt.set_DOE(x_lf=x_lf_DOE, x_hf=x_hf_DOE, y_lf=[y_lf_DOE[:, 0], y_lf_DOE[:, 1]], y_hf=[y_hf_DOE[:, 0], y_hf_DOE[:, 1]])\n",
    "mfsmt.train()"
   ]
  },
  {
   "cell_type": "markdown",
   "metadata": {},
   "source": [
    "Bayesian adaptive infill loop\n",
    "\n",
    "**Note**: this should take around 1.5 minutes"
   ]
  },
  {
   "cell_type": "code",
   "execution_count": null,
   "metadata": {},
   "outputs": [],
   "source": [
    "bayesian_optimization(mfsmt, zdt_lf, zdt_hf, n_iter, infill_lf_size, infill_nb_gen, True, dim, bound, seed)"
   ]
  },
  {
   "cell_type": "markdown",
   "metadata": {},
   "source": [
    "Compute dataset Pareto"
   ]
  },
  {
   "cell_type": "code",
   "execution_count": null,
   "metadata": {},
   "outputs": [],
   "source": [
    "mfsmt_pareto = compute_pareto(mfsmt.models[0].y_hf_DOE, mfsmt.models[1].y_hf_DOE)"
   ]
  },
  {
   "cell_type": "markdown",
   "metadata": {},
   "source": [
    "#### 2. Custom non-Bayesian infill strategy\n",
    "\n",
    "The non-Bayesian infill input variables are the same as for the Bayesian inputs.\n",
    "\n",
    "**Note**: the initial DOEs are the same.\n",
    "\n",
    "Builds the MFDNN multi-output model"
   ]
  },
  {
   "cell_type": "code",
   "execution_count": null,
   "metadata": {},
   "outputs": [],
   "source": [
    "mfdnn_config = {\n",
    "    \"mfdnn\": {\n",
    "        \"nested_doe\": True,\n",
    "        \"pretraining\": True,\n",
    "        \"NNL\": {\n",
    "            \"layer_sizes_NNL\": [32, 32, 32, 32, 32, 32, 2],\n",
    "            \"optimizer\": {\n",
    "                \"lr\": 1e-3,\n",
    "                \"weight_decay\": 0\n",
    "            },\n",
    "            \"loss_target\": 1e-5,\n",
    "            \"niter\": 10000\n",
    "        },\n",
    "        \"NNH\": {\n",
    "            \"layer_sizes_NNH1\": [16, 2],\n",
    "            \"layer_sizes_NNH2\": [16, 16, 2],\n",
    "            \"optimizer\": {\n",
    "                \"lr\": 1e-4,\n",
    "                \"weight_decay_NNH1\": 0,\n",
    "                \"weight_decay_NNH2\": 1e-4\n",
    "            },\n",
    "            \"loss_target\": 1e-5,\n",
    "            \"niter\": 20000\n",
    "        }\n",
    "    }\n",
    "}\n",
    "\n",
    "mfdnn = get_model(model_name=\"mfdnn\", dim=dim, config_dict=mfdnn_config, outdir=\"test\", seed=seed)\n",
    "mfdnn.set_DOE(x_lf=x_lf_DOE, x_hf=x_hf_DOE, y_lf=y_lf_DOE, y_hf=y_hf_DOE)\n",
    "mfdnn.train()"
   ]
  },
  {
   "cell_type": "markdown",
   "metadata": {},
   "source": [
    "Non-Bayesian adaptive infill loop\n",
    "\n",
    "**Note**: this should take around 3.3 minutes"
   ]
  },
  {
   "cell_type": "code",
   "execution_count": null,
   "metadata": {},
   "outputs": [],
   "source": [
    "non_bayesian_optimization(mfdnn, zdt_lf, zdt_hf, n_iter, infill_lf_size, infill_nb_gen, infill_pop_size, dim, bound, seed)"
   ]
  },
  {
   "cell_type": "markdown",
   "metadata": {},
   "source": [
    "Compute dataset Pareto"
   ]
  },
  {
   "cell_type": "code",
   "execution_count": null,
   "metadata": {},
   "outputs": [],
   "source": [
    "mfdnn_pareto = compute_pareto(mfdnn.y_hf_DOE[:, 0], mfdnn.y_hf_DOE[:, 1])"
   ]
  },
  {
   "cell_type": "markdown",
   "metadata": {},
   "source": [
    "Adaptive infill results are plotted"
   ]
  },
  {
   "cell_type": "code",
   "execution_count": null,
   "metadata": {},
   "outputs": [],
   "source": [
    "fig, ax = plt.subplots(1, 1, figsize=(8, 8))\n",
    "ax.plot(zdt_pareto[:, 0], zdt_pareto[:, 1], color=\"r\", label=\"true Pareto\", zorder=-1)\n",
    "ax.scatter(nsga_pareto[:, 0], nsga_pareto[:, 1], marker=\"x\", color=\"k\", label=\"NSGA2 Pareto\")\n",
    "ax.scatter(mfsmt.models[0].y_hf_DOE[:n_hf], mfsmt.models[1].y_hf_DOE[:n_hf], marker=\"s\", color=\"k\", label=\"initial DOE\")\n",
    "ax.scatter(mfsmt.models[0].y_hf_DOE[n_hf:], mfsmt.models[1].y_hf_DOE[n_hf:], marker=\"^\", color=\"blue\", label=\"mfsmt hf infills\")\n",
    "ax.scatter(mfdnn.y_hf_DOE[n_hf:, 0], mfdnn.y_hf_DOE[n_hf:, 1], marker=\"v\", color=\"green\", label=\"mfdnn hf infills\")\n",
    "ax.set(xlabel='$J_1$', ylabel='$J_2$')\n",
    "plt.legend()"
   ]
  },
  {
   "cell_type": "markdown",
   "metadata": {},
   "source": [
    "Performance indicator IGD and IGD+"
   ]
  },
  {
   "cell_type": "code",
   "execution_count": null,
   "metadata": {},
   "outputs": [],
   "source": [
    "igd = IGD(zdt_pareto)\n",
    "print(f\"IGD MFSMT: {igd(mfsmt_pareto)}\\nIGD MFDNN: {igd(mfdnn_pareto)}\\n\")\n",
    "\n",
    "igdp = IGDPlus(zdt_pareto)\n",
    "print(f\"IGD+ MFSMT: {igdp(mfsmt_pareto)}\\nIGD+ MFDNN: {igdp(mfdnn_pareto)}\")"
   ]
  },
  {
   "cell_type": "code",
   "execution_count": null,
   "metadata": {},
   "outputs": [],
   "source": []
  }
 ],
 "metadata": {
  "kernelspec": {
   "display_name": ".venv",
   "language": "python",
   "name": "python3"
  },
  "language_info": {
   "codemirror_mode": {
    "name": "ipython",
    "version": 3
   },
   "file_extension": ".py",
   "mimetype": "text/x-python",
   "name": "python",
   "nbconvert_exporter": "python",
   "pygments_lexer": "ipython3",
   "version": "3.12.3"
  }
 },
 "nbformat": 4,
 "nbformat_minor": 2
}
