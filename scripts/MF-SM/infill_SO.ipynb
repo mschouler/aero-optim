{
 "cells": [
  {
   "cell_type": "markdown",
   "metadata": {},
   "source": [
    "#### Infill NOTEBOOK\n",
    "\n",
    "This notebook validates various elementary bricks related to Bayesian and non-Bayesian adaptive infill strategies:\n",
    "\n",
    "1. Expected improvement\n",
    "2. Lower Confidence Bound\n",
    "3. max-min Euclidean Distance\n",
    "4. the generalisation of SMT's nested LHS to arbitrary DOE sizes\n",
    "\n",
    "**Notes**: the tests are performed for single-fidelity single-objective optimization and adapted from SMT's documentation (see [EGO](https://smt.readthedocs.io/en/latest/_src_docs/applications/ego.html))."
   ]
  },
  {
   "cell_type": "code",
   "execution_count": null,
   "metadata": {},
   "outputs": [],
   "source": [
    "import matplotlib.pyplot as plt\n",
    "import numpy as np\n",
    "from scipy.spatial.distance import cdist\n",
    "from scipy.stats import qmc\n",
    "\n",
    "from aero_optim.mf_sm.mf_models import get_model\n",
    "from aero_optim.mf_sm.mf_infill import minimize_LCB, maximize_EI, maximize_ED"
   ]
  },
  {
   "cell_type": "markdown",
   "metadata": {},
   "source": [
    "Forester function and initial DOE"
   ]
  },
  {
   "cell_type": "code",
   "execution_count": null,
   "metadata": {},
   "outputs": [],
   "source": [
    "def forrester(x):\n",
    "    return (6 * x -2)**2 * np.sin(12 * x - 4)\n",
    "\n",
    "x_t = np.linspace(0, 1, 3).reshape(-1, 1)\n",
    "y_t = forrester(x_t)\n",
    "\n",
    "x_plot = np.linspace(0, 1, 200).reshape(-1, 1)\n",
    "y_plot = forrester(x_plot)"
   ]
  },
  {
   "cell_type": "code",
   "execution_count": null,
   "metadata": {},
   "outputs": [],
   "source": [
    "fig, ax = plt.subplots()\n",
    "ax.plot(x_plot, y_plot, color=\"k\", label='exact solution')\n",
    "ax.scatter(x_t, y_t, marker='o', facecolors=\"none\", edgecolors=\"blue\", label='DOE')\n",
    "ax.set(xlabel='x', ylabel='y')\n",
    "ax.legend()\n",
    "plt.show()"
   ]
  },
  {
   "cell_type": "markdown",
   "metadata": {},
   "source": [
    "#### 1. LCB\n",
    "\n",
    "LCB infill input variables are:\n",
    "\n",
    "- `seed` the random seed\n",
    "- `niter` the number of LCB iterations\n",
    "- `(x_t, y_t)` the initial DOE\n",
    "\n",
    "**Note**: `model` is a single-fidelity kriging surrogate"
   ]
  },
  {
   "cell_type": "code",
   "execution_count": null,
   "metadata": {},
   "outputs": [],
   "source": [
    "seed = 123\n",
    "n_iter = 12\n",
    "\n",
    "model = get_model(model_name=\"smt\", dim=1, config_dict={}, outdir=\"\", seed=seed)\n",
    "model.set_DOE(x_lf=x_t, y_lf=y_t, x_hf=x_t, y_hf=y_t)\n",
    "model.train()"
   ]
  },
  {
   "cell_type": "markdown",
   "metadata": {},
   "source": [
    "LCB-based adaptive infill loop"
   ]
  },
  {
   "cell_type": "code",
   "execution_count": null,
   "metadata": {},
   "outputs": [],
   "source": [
    "for _ in range(n_iter):\n",
    "    new_x = minimize_LCB(model, n_var=1, bound=[0, 1], seed=0, n_gen=10)\n",
    "    new_y = forrester(new_x)\n",
    "    print(f\"iter {_}, new x {new_x}, new_y {new_y}\")\n",
    "    model.set_DOE(x_lf=x_t, y_lf=y_t, x_hf=new_x, y_hf=new_y)\n",
    "    model.train()"
   ]
  },
  {
   "cell_type": "markdown",
   "metadata": {},
   "source": [
    "LCB results are plotted"
   ]
  },
  {
   "cell_type": "code",
   "execution_count": null,
   "metadata": {},
   "outputs": [],
   "source": [
    "fig, ax = plt.subplots()\n",
    "ax.plot(x_plot, y_plot, color=\"k\", label='objective')\n",
    "ax.plot(x_plot, model.evaluate(x_plot), color=\"r\", linestyle=\"dashed\", label='model')\n",
    "ax.fill_between(\n",
    "    np.ravel(x_plot),\n",
    "    np.ravel(model.evaluate(x_plot) - 3 * model.evaluate_std(x_plot)),\n",
    "    np.ravel(model.evaluate(x_plot) + 3 * model.evaluate_std(x_plot)),\n",
    "    color=\"lightgrey\",\n",
    "    label=\"confidence interval\"\n",
    ")\n",
    "ax.scatter(model.x_hf_DOE, model.y_hf_DOE, marker='o', facecolors=\"none\", edgecolors=\"blue\", label='DOE')\n",
    "ax.set(xlabel='x', ylabel='y')\n",
    "ax.legend()\n",
    "plt.show()"
   ]
  },
  {
   "cell_type": "markdown",
   "metadata": {},
   "source": [
    "#### 2. EI\n",
    "\n",
    "EI infill input variables are:\n",
    "\n",
    "- `seed` the random seed\n",
    "- `niter` the number of EI iterations\n",
    "- `(x_t, y_t)` the initial DOE\n",
    "\n",
    "**Note**: `model` is a single-fidelity kriging surrogate"
   ]
  },
  {
   "cell_type": "code",
   "execution_count": null,
   "metadata": {},
   "outputs": [],
   "source": [
    "n_iter = 8\n",
    "model = get_model(model_name=\"smt\", dim=1, config_dict={}, outdir=\"\", seed=seed)\n",
    "model.set_DOE(x_lf=x_t, y_lf=y_t, x_hf=x_t, y_hf=y_t)\n",
    "model.train()"
   ]
  },
  {
   "cell_type": "markdown",
   "metadata": {},
   "source": [
    "EI-based adaptive infill loop"
   ]
  },
  {
   "cell_type": "code",
   "execution_count": null,
   "metadata": {},
   "outputs": [],
   "source": [
    "for _ in range(n_iter):\n",
    "    new_x = maximize_EI(model=model, n_var=1, bound=[0, 1], seed=0, n_gen=10)\n",
    "    new_y = forrester(new_x)\n",
    "    print(f\"iter {_}, new x {new_x}, new_y {new_y}\")\n",
    "    model.set_DOE(x_lf=new_x, y_lf=new_y, x_hf=new_x, y_hf=new_y)\n",
    "    model.train()"
   ]
  },
  {
   "cell_type": "markdown",
   "metadata": {},
   "source": [
    "EI results are plotted"
   ]
  },
  {
   "cell_type": "code",
   "execution_count": null,
   "metadata": {},
   "outputs": [],
   "source": [
    "fig, ax = plt.subplots()\n",
    "ax.plot(x_plot, y_plot, color=\"k\", label='objective')\n",
    "ax.plot(x_plot, model.evaluate(x_plot), color=\"r\", linestyle=\"dashed\", label='model')\n",
    "ax.fill_between(\n",
    "    np.ravel(x_plot),\n",
    "    np.ravel(model.evaluate(x_plot) - 3 * model.evaluate_std(x_plot)),\n",
    "    np.ravel(model.evaluate(x_plot) + 3 * model.evaluate_std(x_plot)),\n",
    "    color=\"lightgrey\",\n",
    "    label=\"confidence interval\"\n",
    ")\n",
    "ax.scatter(model.x_lf_DOE, model.y_lf_DOE, marker='o', facecolors=\"none\", edgecolors=\"blue\", label='DOE')\n",
    "ax.set(xlabel='x', ylabel='y')\n",
    "ax.legend()\n",
    "plt.show()"
   ]
  },
  {
   "cell_type": "markdown",
   "metadata": {},
   "source": [
    "#### 3. max-min ED\n",
    "\n",
    "max-min ED infill input variables are:\n",
    "\n",
    "- `seed` the random seed\n",
    "- `niter` the number of EI iterations\n",
    "- `(x_t, y_t)` the initial DOE\n",
    "\n",
    "**Note**: `model` is a single-fidelity kriging surrogate"
   ]
  },
  {
   "cell_type": "code",
   "execution_count": null,
   "metadata": {},
   "outputs": [],
   "source": [
    "n_iter = 15\n",
    "model = get_model(model_name=\"smt\", dim=1, config_dict={}, outdir=\"\", seed=seed)\n",
    "model.set_DOE(x_lf=x_t, y_lf=y_t, x_hf=x_t, y_hf=y_t)\n",
    "model.train()"
   ]
  },
  {
   "cell_type": "markdown",
   "metadata": {},
   "source": [
    "max-min ED-based adaptive infill loop"
   ]
  },
  {
   "cell_type": "code",
   "execution_count": null,
   "metadata": {},
   "outputs": [],
   "source": [
    "for _ in range(n_iter):\n",
    "    new_x = maximize_ED(DOE=model.get_DOE(), n_var=1, bound=[0, 1], seed=0, n_gen=10)\n",
    "    new_y = forrester(new_x)\n",
    "    print(f\"iter {_}, new x {new_x}, new_y {new_y}\")\n",
    "    model.set_DOE(x_lf=new_x, y_lf=new_y, x_hf=new_x, y_hf=new_y)\n",
    "    model.train()"
   ]
  },
  {
   "cell_type": "markdown",
   "metadata": {},
   "source": [
    "max-min ED results are plotted"
   ]
  },
  {
   "cell_type": "code",
   "execution_count": null,
   "metadata": {},
   "outputs": [],
   "source": [
    "fig, ax = plt.subplots()\n",
    "ax.plot(x_plot, y_plot, color=\"k\", label='objective')\n",
    "ax.plot(x_plot, model.evaluate(x_plot), color=\"r\", linestyle=\"dashed\", label='model')\n",
    "ax.fill_between(\n",
    "    np.ravel(x_plot),\n",
    "    np.ravel(model.evaluate(x_plot) - 3 * model.evaluate_std(x_plot)),\n",
    "    np.ravel(model.evaluate(x_plot) + 3 * model.evaluate_std(x_plot)),\n",
    "    color=\"lightgrey\",\n",
    "    label=\"confidence interval\"\n",
    ")\n",
    "ax.scatter(model.x_lf_DOE, model.y_lf_DOE, marker='o', facecolors=\"none\", edgecolors=\"blue\", label='DOE')\n",
    "ax.set(xlabel='x', ylabel='y')\n",
    "ax.legend()\n",
    "plt.show()"
   ]
  },
  {
   "cell_type": "markdown",
   "metadata": {},
   "source": [
    "#### 4. nested LHS\n",
    "\n",
    "The LHS nested sampling input variables are:\n",
    "\n",
    "- `seed` the random seed\n",
    "- `n_lf` the number of low-fidelity samples to draw\n",
    "- `n_hf` the number of high-fidelity samples to draw"
   ]
  },
  {
   "cell_type": "code",
   "execution_count": null,
   "metadata": {},
   "outputs": [],
   "source": [
    "n_lf = 10\n",
    "n_hf = 3"
   ]
  },
  {
   "cell_type": "markdown",
   "metadata": {},
   "source": [
    "Builds the 2D LHS sampler"
   ]
  },
  {
   "cell_type": "code",
   "execution_count": null,
   "metadata": {},
   "outputs": [],
   "source": [
    "sampler = qmc.LatinHypercube(d=2, seed=seed)"
   ]
  },
  {
   "cell_type": "code",
   "execution_count": null,
   "metadata": {},
   "outputs": [],
   "source": [
    "hf_sample = sampler.random(n=n_hf)\n",
    "x_hf = qmc.scale(hf_sample, *[0, 1])\n",
    "\n",
    "lf_sample = sampler.random(n=n_lf)\n",
    "x_lf = qmc.scale(lf_sample, *[0, 1])"
   ]
  },
  {
   "cell_type": "markdown",
   "metadata": {},
   "source": [
    "Original low- and high-fidelity DOEs"
   ]
  },
  {
   "cell_type": "code",
   "execution_count": null,
   "metadata": {},
   "outputs": [],
   "source": [
    "fig, ax = plt.subplots()\n",
    "ax.scatter(\n",
    "    x_lf[:, 0], x_lf[:, 1],\n",
    "    marker='x', color=\"red\", label='x_lf'\n",
    ")\n",
    "ax.scatter(\n",
    "    x_hf[:, 0], x_hf[:, 1],\n",
    "    marker='o', facecolors=\"none\", edgecolors=\"blue\", label='x_hf'\n",
    ")\n",
    "ax.set(xlabel='x', ylabel='y')\n",
    "ax.legend()\n",
    "plt.show()"
   ]
  },
  {
   "cell_type": "markdown",
   "metadata": {},
   "source": [
    "LHS nearest neighbours extension (see [SMT sources](https://github.com/SMTorg/smt/blob/master/smt/applications/mfk.py#L73-L143))"
   ]
  },
  {
   "cell_type": "code",
   "execution_count": null,
   "metadata": {},
   "outputs": [],
   "source": [
    "# nearest neighbours deletion\n",
    "ind = []\n",
    "d = cdist(x_hf, x_lf, \"euclidean\")\n",
    "for j in range(x_hf.shape[0]):\n",
    "    dj = np.sort(d[j, :])\n",
    "    k = dj[0]\n",
    "    ll = (np.where(d[j, :] == k))[0][0]\n",
    "    m = 0\n",
    "    while ll in ind:\n",
    "        m = m + 1\n",
    "        k = dj[m]\n",
    "        ll = (np.where(d[j, :] == k))[0][0]\n",
    "    ind.append(ll)\n",
    "\n",
    "x_lf_nested = np.delete(x_lf, ind, axis=0)\n",
    "x_lf_nested = np.vstack((x_lf_nested, x_hf))"
   ]
  },
  {
   "cell_type": "markdown",
   "metadata": {},
   "source": [
    "Nested low- and high-fidelity DOEs"
   ]
  },
  {
   "cell_type": "code",
   "execution_count": null,
   "metadata": {},
   "outputs": [],
   "source": [
    "import matplotlib.pyplot as plt\n",
    "fig, ax = plt.subplots()\n",
    "ax.scatter(\n",
    "    x_hf[:, 0], x_hf[:, 1], marker='o', s=40, facecolor=\"none\", color=\"blue\", label='x_hf'\n",
    ")\n",
    "ax.scatter(\n",
    "    x_lf[:, 0], x_lf[:, 1], marker='x', s=40, color=\"red\", label='original x_lf'\n",
    ")\n",
    "ax.scatter(\n",
    "    x_lf_nested[:, 0], x_lf_nested[:, 1], s=20, marker='^', color=\"k\", label='nested x_lf'\n",
    ")\n",
    "ax.set(xlabel='x', ylabel='y')\n",
    "ax.legend()\n",
    "plt.show()"
   ]
  },
  {
   "cell_type": "code",
   "execution_count": null,
   "metadata": {},
   "outputs": [],
   "source": []
  }
 ],
 "metadata": {
  "kernelspec": {
   "display_name": ".venv",
   "language": "python",
   "name": "python3"
  },
  "language_info": {
   "codemirror_mode": {
    "name": "ipython",
    "version": 3
   },
   "file_extension": ".py",
   "mimetype": "text/x-python",
   "name": "python",
   "nbconvert_exporter": "python",
   "pygments_lexer": "ipython3",
   "version": "3.12.3"
  }
 },
 "nbformat": 4,
 "nbformat_minor": 2
}
