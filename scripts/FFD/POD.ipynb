{
 "cells": [
  {
   "cell_type": "markdown",
   "metadata": {},
   "source": [
    "#### POD NOTEBOOK\n",
    "\n",
    "This notebook applies POD-coupled FFD to a geometry and illustrates various reconstruction aspects."
   ]
  },
  {
   "cell_type": "code",
   "execution_count": 1,
   "metadata": {},
   "outputs": [],
   "source": [
    "import matplotlib.gridspec as gridspec\n",
    "import matplotlib.pyplot as plt\n",
    "import numpy as np\n",
    "import os\n",
    "import random\n",
    "\n",
    "from numpy import linalg as LA\n",
    "from scipy.stats import qmc\n",
    "\n",
    "from aero_optim.geom import split_profile, get_curvature\n",
    "from aero_optim.ffd.ffd import FFD_2D\n",
    "\n",
    "# Latex consistent figures\n",
    "plt.rcParams.update({\n",
    "    \"text.usetex\": True,\n",
    "    \"font.family\": \"Times\",\n",
    "    \"figure.dpi\": 300,\n",
    "    \"font.size\": 8,\n",
    "    'legend.fontsize': 8, \n",
    "    \"axes.titlesize\": 8,\n",
    "    \"axes.labelsize\": 8\n",
    "})"
   ]
  },
  {
   "cell_type": "markdown",
   "metadata": {},
   "source": [
    "The notebook input variables are:\n",
    "\n",
    "- `seed` the sampling seed \n",
    "- `ncontrol` the number of FFD control points on each side of the lattice box\n",
    "- `bounds` the FFD deformation boundaries\n",
    "- `file` the path to the file containing the geometry coordinates\n",
    "- `nprofile` the number of FFD deformed profiles used to build the FFD dataset\n",
    "- `nmode` the reduced dimension of the POD-coupled FFD\n",
    "\n",
    "**Note**: the number of FFD design variables is `2 * ncontrol`, the number of POD-coupled design variables is `nmode`"
   ]
  },
  {
   "cell_type": "code",
   "execution_count": 2,
   "metadata": {},
   "outputs": [],
   "source": [
    "seed = 123\n",
    "ncontrol = 4\n",
    "bounds = (-0.2, 0.2)\n",
    "file = \"/home/mschouler/Documents/Sorbonne/aero-optim/examples/RAE2822/data/rae2822.dat\"\n",
    "nprofile = 1000\n",
    "nmode = 4"
   ]
  },
  {
   "cell_type": "markdown",
   "metadata": {},
   "source": [
    "The `FFD_2D` object is created"
   ]
  },
  {
   "cell_type": "code",
   "execution_count": 3,
   "metadata": {},
   "outputs": [],
   "source": [
    "ffd = FFD_2D(file, ncontrol)"
   ]
  },
  {
   "cell_type": "markdown",
   "metadata": {},
   "source": [
    "A random LHS sampler is built and used to sample the FFD dataset\n",
    "\n",
    "**Note**: this should take between 5 (RAE2822) to 10 (LRN-CASCADE) seconds"
   ]
  },
  {
   "cell_type": "code",
   "execution_count": 4,
   "metadata": {},
   "outputs": [],
   "source": [
    "sampler = qmc.LatinHypercube(d=2 * ncontrol, seed=seed)\n",
    "sample = sampler.random(n=nprofile)\n",
    "scaled_sample = qmc.scale(sample, *bounds)\n",
    "\n",
    "profiles = []\n",
    "for Delta in scaled_sample:\n",
    "    profiles.append(ffd.apply_ffd(Delta))"
   ]
  },
  {
   "cell_type": "markdown",
   "metadata": {},
   "source": [
    "The POD eigenproblem is built and solved"
   ]
  },
  {
   "cell_type": "code",
   "execution_count": null,
   "metadata": {},
   "outputs": [],
   "source": [
    "S = np.stack([p[:, -1] for p in profiles] , axis=1)\n",
    "print(f\"S shape: {S.shape}\")\n",
    "S_mean = 1 / nprofile * np.sum(S, axis=1)\n",
    "print(f\"S_mean shape: {S_mean.shape}\")\n",
    "F = S[:, :] - S_mean[:, None]\n",
    "print(f\"shape of F: {F.shape}\")\n",
    "C = np.matmul(np.transpose(F), F)\n",
    "print(f\"shape of C: {C.shape}\")\n",
    "eigenvalues, eigenvectors = LA.eigh(C)\n",
    "print(f\"shape of V: {eigenvectors.shape}\")\n",
    "phi = np.matmul(F, eigenvectors)\n",
    "print(f\"shape of phi: {phi.shape}\")"
   ]
  },
  {
   "cell_type": "markdown",
   "metadata": {},
   "source": [
    "The reduced matrices are computed based on `nmode`:\n",
    "\n",
    "- `phi_tilde` the reduced eigenmode matrix\n",
    "- `V_tilde_inv` the modal coefficients matrix\n",
    "- `D_tilde` the reduced profiles matrix"
   ]
  },
  {
   "cell_type": "code",
   "execution_count": null,
   "metadata": {},
   "outputs": [],
   "source": [
    "phi_tilde = phi[:, -nmode:]\n",
    "print(f\"shape of phi_tilde: {phi_tilde.shape}\")\n",
    "V_tilde_inv = np.linalg.inv(eigenvectors)[-nmode:, :]\n",
    "print(f\"shape of V_tilde_inv: {V_tilde_inv.shape}\")\n",
    "D_tilde = S_mean[:, None] + np.matmul(phi_tilde, V_tilde_inv)"
   ]
  },
  {
   "cell_type": "markdown",
   "metadata": {},
   "source": [
    "Random profiles from the FFD dataset and their reduced reconstruction are plotted"
   ]
  },
  {
   "cell_type": "code",
   "execution_count": null,
   "metadata": {},
   "outputs": [],
   "source": [
    "fig, ax = plt.subplots(figsize=(5.2, 3.64))\n",
    "for ii in range(5):\n",
    "    idx = random.randint(0, len(profiles) - 1)\n",
    "    ax.plot(profiles[idx][:, 0], S[:, idx])\n",
    "    ax.plot(profiles[idx][:, 0], D_tilde[:, idx], linestyle=\"dashed\", color=\"k\")\n",
    "ax.set(xlabel=\"$x$ [m]\", ylabel=\"$y$ [m]\", title=f\"Reconstructed profiles with {nmode} modes\")"
   ]
  },
  {
   "cell_type": "markdown",
   "metadata": {},
   "source": [
    "The cumulative energy percentage is computed given `nmode`"
   ]
  },
  {
   "cell_type": "code",
   "execution_count": null,
   "metadata": {},
   "outputs": [],
   "source": [
    "for nn in range(1, nmode + 1):\n",
    "    print(f\"{nn} mode energy percentage = {np.sum(eigenvalues[-nn:]) / sum(eigenvalues) * 100} %\")"
   ]
  },
  {
   "cell_type": "markdown",
   "metadata": {},
   "source": [
    "The geometric modes (a) and the energy and error (b) are plotted"
   ]
  },
  {
   "cell_type": "code",
   "execution_count": null,
   "metadata": {},
   "outputs": [],
   "source": [
    "eigen_nrj = []\n",
    "error = []\n",
    "color = [\"k\", \"r\", \"g\", \"b\", \"orange\", \"darkviolet\"]\n",
    "ls = [\"solid\", \"dotted\", \"dashed\", \"dashdot\", (0, (1, 1)), (0, (2, 1))]\n",
    "fig = plt.figure(figsize=(6.5, 3.25))\n",
    "fig.subplots_adjust(hspace=0.25)\n",
    "ax1 = plt.subplot(1, 2, 1)  # geom. modes\n",
    "ax2 = plt.subplot(1, 2, 2)  # POD eigenvalue energy\n",
    "for nn in range(1, nmode + 1):\n",
    "    # ax1\n",
    "    ax1.plot(ffd.pts[:, 0] / 0.07, phi_tilde[:, -nn], label=f\"mode {nn}\", color=color[nn - 1], linestyle=ls[nn - 1])\n",
    "for nn in range(1, 2 * ncontrol + 1):\n",
    "    phi_tilde_tmp = phi[:, -nn:]\n",
    "    V_tilde_inv_tmp = np.linalg.inv(eigenvectors)[-nn:, :]\n",
    "    D_tilde_tmp = S_mean[:, None] + np.matmul(phi_tilde_tmp, V_tilde_inv_tmp)\n",
    "    # ax2\n",
    "    eigen_nrj.append(eigenvalues[-nn] / np.sum(eigenvalues) * 100)\n",
    "    error.append(np.sqrt(np.sum([np.sum((y_true - y_pred)**2) for y_true, y_pred in zip(S.transpose(), D_tilde_tmp.transpose())]) / nprofile))\n",
    "ax2.axvline(nmode, color=\"k\", linestyle=\"dashed\")\n",
    "ax2.plot(range(1, len(eigen_nrj) + 1), eigen_nrj, color=\"blue\", marker=\"s\", ms=5, label=\"energy\")\n",
    "ax22 = ax2.twinx()  # instantiate a second Axes that shares the same x-axis\n",
    "ax22.plot(range(1, len(error) + 1), error, color=\"red\", marker=\"s\", ms=5, label=\"RMSE\")\n",
    "ax22.set_yscale(\"log\")\n",
    "ax1.set(xlabel=\"$x / c$ [-]\", ylabel=\"POD basis [-]\", title=\"a) Geometric modes\")\n",
    "ax1.legend(loc=\"lower left\")\n",
    "ax2.set(xlabel=\"$N_i$ [-]\", ylabel=\"$\\\\lambda_i / \\\\sum_{n=1}^{N_m} \\\\lambda_n$ [\\%]\", title=\"b) Energy and error\")\n",
    "ax22.set(ylabel=\"RMSE [m]\")\n",
    "lines, labels = ax2.get_legend_handles_labels()\n",
    "lines2, labels2 = ax22.get_legend_handles_labels()\n",
    "ax2.legend(lines + lines2, labels + labels2, loc=\"center left\", bbox_to_anchor=(0.5, 0.5))\n",
    "plt.tight_layout()\n",
    "plt.savefig(os.path.join(os.getcwd(), \"POD.pdf\"), bbox_inches=\"tight\")\n",
    "plt.show()"
   ]
  },
  {
   "cell_type": "markdown",
   "metadata": {},
   "source": [
    "The POD boundaries are inferred from the modal coefficient min/max values"
   ]
  },
  {
   "cell_type": "code",
   "execution_count": 10,
   "metadata": {},
   "outputs": [],
   "source": [
    "l_bound = np.array([min(v) for v in V_tilde_inv])\n",
    "u_bound = np.array([max(v) for v in V_tilde_inv])\n",
    "new_bounds = (l_bound, u_bound)"
   ]
  },
  {
   "cell_type": "code",
   "execution_count": 11,
   "metadata": {},
   "outputs": [],
   "source": [
    "y_min = S_mean + np.sum(phi_tilde * np.array(l_bound), axis=1)\n",
    "y_max = S_mean + np.sum(phi_tilde * np.array(u_bound), axis=1)"
   ]
  },
  {
   "cell_type": "markdown",
   "metadata": {},
   "source": [
    "The non-conservation of the FFD maximal deformations is illustrated with LHS sampling"
   ]
  },
  {
   "cell_type": "code",
   "execution_count": null,
   "metadata": {},
   "outputs": [],
   "source": [
    "min_profile = ffd.apply_ffd(np.array([bounds[0]] * 2 * ncontrol))\n",
    "max_profile = ffd.apply_ffd(np.array([bounds[-1]] * 2 * ncontrol))"
   ]
  },
  {
   "cell_type": "code",
   "execution_count": null,
   "metadata": {},
   "outputs": [],
   "source": [
    "new_sampler = qmc.LatinHypercube(d=nmode, seed=seed)\n",
    "new_sample = new_sampler.random(n=100)\n",
    "lhs_sample = qmc.scale(new_sample, *new_bounds)"
   ]
  },
  {
   "cell_type": "code",
   "execution_count": null,
   "metadata": {},
   "outputs": [],
   "source": [
    "fig, ax = plt.subplots(figsize=(3.15, 2))\n",
    "for ss_id, ss in enumerate(lhs_sample):\n",
    "    y = S_mean + np.sum(phi_tilde * ss, axis=1)\n",
    "    if ss_id == 0:\n",
    "        ax.plot(ffd.pts[:, 0], y, linestyle=\"solid\", color=\"lightgrey\", linewidth=0.5, label=\" random POD profiles\")\n",
    "    else:\n",
    "        ax.plot(ffd.pts[:, 0], y, linestyle=\"solid\", color=\"lightgrey\", linewidth=0.5)\n",
    "ax.plot(min_profile[:, 0], min_profile[:, 1], color=\"k\", linewidth=1, linestyle=\"dashed\", label=\"min/max FFD profiles\")\n",
    "ax.plot(max_profile[:, 0], max_profile[:, 1], color=\"k\", linewidth=1, linestyle=\"dashed\")\n",
    "ax.legend()\n",
    "ax.set(xlabel=\"$x$ [m]\", ylabel=\"$y$ [m]\")\n",
    "plt.tight_layout()\n",
    "plt.savefig(os.path.join(os.getcwd(), \"POD_lhs_profiles.pdf\"), bbox_inches=\"tight\")\n",
    "plt.show()"
   ]
  },
  {
   "cell_type": "markdown",
   "metadata": {},
   "source": [
    "Maximal deformation conservation enforced via normal distribution sampling within one standard deviation"
   ]
  },
  {
   "cell_type": "code",
   "execution_count": null,
   "metadata": {},
   "outputs": [],
   "source": [
    "d_mean = np.mean(V_tilde_inv, axis=1)\n",
    "d_std = np.std(V_tilde_inv, axis=1)\n",
    "print(d_mean, d_std)\n",
    "random_input = d_mean + np.random.normal(0, 1, (100, 4)) * d_std"
   ]
  },
  {
   "cell_type": "code",
   "execution_count": null,
   "metadata": {},
   "outputs": [],
   "source": [
    "fig, ax = plt.subplots(figsize=(3.15, 2))\n",
    "for ss_id, ss in enumerate(random_input):\n",
    "    y = S_mean + np.sum(phi_tilde * ss, axis=1)\n",
    "    if ss_id == 0:\n",
    "        ax.plot(ffd.pts[:, 0], y, linestyle=\"solid\", color=\"lightgrey\", linewidth=0.5, label=\" random POD profiles\")\n",
    "    else:\n",
    "        ax.plot(ffd.pts[:, 0], y, linestyle=\"solid\", color=\"lightgrey\", linewidth=0.5)\n",
    "ax.plot(min_profile[:, 0], min_profile[:, 1], color=\"k\", linewidth=1, linestyle=\"dashed\", label=\"min/max FFD profiles\")\n",
    "ax.plot(max_profile[:, 0], max_profile[:, 1], color=\"k\", linewidth=1, linestyle=\"dashed\")\n",
    "ax.legend()\n",
    "ax.set(xlabel=\"$x$ [m]\", ylabel=\"$y$ [m]\")\n",
    "plt.tight_layout()\n",
    "plt.savefig(os.path.join(os.getcwd(), \"POD_normal_profiles.pdf\"), bbox_inches=\"tight\")\n",
    "plt.show()"
   ]
  },
  {
   "cell_type": "markdown",
   "metadata": {},
   "source": [
    "Examples of 32 POD reduced profiles"
   ]
  },
  {
   "cell_type": "code",
   "execution_count": null,
   "metadata": {},
   "outputs": [],
   "source": [
    "fig, ax = plt.subplots(4, 8, figsize=(10, 5))\n",
    "\n",
    "for ii, aa in enumerate(ax):\n",
    "    for jj, bb in enumerate(aa):\n",
    "        ss = random_input[ii * 8 + jj]\n",
    "        y = S_mean + np.sum(phi_tilde * ss, axis=1)\n",
    "        bb.plot(ffd.pts[:, 0], y, color=\"k\", linewidth=2)\n",
    "        bb.axis(\"off\")\n",
    "        bb.set_aspect(4)\n",
    "\n",
    "plt.show()"
   ]
  },
  {
   "cell_type": "markdown",
   "metadata": {},
   "source": [
    "The latent space distributions are plotted\n",
    "\n",
    "**Note**: if the number of modes `nmode` is changed, the sub-figure structure must be adapted"
   ]
  },
  {
   "cell_type": "code",
   "execution_count": 18,
   "metadata": {},
   "outputs": [],
   "source": [
    "latent_space = V_tilde_inv"
   ]
  },
  {
   "cell_type": "code",
   "execution_count": null,
   "metadata": {},
   "outputs": [],
   "source": [
    "fig = plt.figure(figsize=(6.5, 6.5))\n",
    "fig.subplots_adjust(hspace=0.25, wspace=0.25)\n",
    "ax1 = plt.subplot(2, 2, 1)  # dim 1\n",
    "ax2 = plt.subplot(2, 2, 2)  # dim 2\n",
    "ax3 = plt.subplot(2, 2, 3)  # dim 3\n",
    "ax4 = plt.subplot(2, 2, 4)  # dim 4\n",
    "ax1.hist(latent_space[-1, :], bins=20, density=1, linewidth=0.5, edgecolor=\"white\")\n",
    "ax1.set(xlabel=\"$\\\\alpha_1$ [-]\", ylabel=\"$N$ [-]\", title=\"a) distribution /dim 1\")\n",
    "ax2.hist(latent_space[-2, :], bins=20, density=1, linewidth=0.5, edgecolor=\"white\")\n",
    "ax2.set(xlabel=\"$\\\\alpha_2$ [-]\", ylabel=\"$N$ [-]\", title=\"b) distribution /dim 2\")\n",
    "ax3.hist(latent_space[-3, :], bins=20, density=1, linewidth=0.5, edgecolor=\"white\")\n",
    "ax3.set(xlabel=\"$\\\\alpha_3$ [-]\", ylabel=\"$N$ [-]\", title=\"c) distribution /dim 3\")\n",
    "ax4.hist(latent_space[-4, :], bins=20, density=1, linewidth=0.5, edgecolor=\"white\")\n",
    "ax4.set(xlabel=\"$\\\\alpha_4$ [-]\", ylabel=\"$N$ [-]\", title=\"d) distribution /dim 4\")"
   ]
  },
  {
   "cell_type": "markdown",
   "metadata": {},
   "source": [
    "POD reduced profile curvature"
   ]
  },
  {
   "cell_type": "code",
   "execution_count": null,
   "metadata": {},
   "outputs": [],
   "source": [
    "idx = random.randint(0, nprofile)\n",
    "ss = random_input[1 * 8 + 0]\n",
    "y = S_mean + np.sum(phi_tilde * ss, axis=1)\n",
    "\n",
    "# Compute curvature\n",
    "bsl_curvature = get_curvature(ffd.pts)\n",
    "vae_curvature = get_curvature(np.column_stack([ffd.pts[:, 0], y]))\n",
    "\n",
    "# Plot curvature\n",
    "fig, ax = plt.subplots(2, 1, figsize=(8, 8))\n",
    "ax[0].plot(ffd.pts[:, 0], ffd.pts[:, 1], color='b', label='baseline shape')\n",
    "ax[0].plot(ffd.pts[:, 0], y, color='r', label='POD shape')\n",
    "ax[0].legend()\n",
    "ax[0].set_ylabel('$y$ [m]')\n",
    "\n",
    "ax[1].plot(ffd.pts[:, 0], bsl_curvature, label='baseline curvature', color='b')\n",
    "ax[1].plot(ffd.pts[:, 0], vae_curvature, label='POD curvature', color='r')\n",
    "ax[1].set_yscale('log')\n",
    "ax[1].legend()\n",
    "ax[1].set_xlabel('$x$ [m]')\n",
    "ax[1].set_ylabel('curvature [m$^{-1}$]')\n",
    "plt.show()"
   ]
  },
  {
   "cell_type": "code",
   "execution_count": null,
   "metadata": {},
   "outputs": [],
   "source": []
  }
 ],
 "metadata": {
  "kernelspec": {
   "display_name": ".venv",
   "language": "python",
   "name": "python3"
  },
  "language_info": {
   "codemirror_mode": {
    "name": "ipython",
    "version": 3
   },
   "file_extension": ".py",
   "mimetype": "text/x-python",
   "name": "python",
   "nbconvert_exporter": "python",
   "pygments_lexer": "ipython3",
   "version": "3.12.3"
  }
 },
 "nbformat": 4,
 "nbformat_minor": 2
}
