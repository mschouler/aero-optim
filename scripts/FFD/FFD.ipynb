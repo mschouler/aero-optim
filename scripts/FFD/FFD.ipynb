{
 "cells": [
  {
   "cell_type": "markdown",
   "metadata": {},
   "source": [
    "#### FFD NOTEBOOK\n",
    "\n",
    "This notebook applies FFD to a geometry and illustrates the maximal deformations corresponding to the given boundaries."
   ]
  },
  {
   "cell_type": "code",
   "execution_count": null,
   "metadata": {},
   "outputs": [],
   "source": [
    "import matplotlib.gridspec as gridspec\n",
    "import matplotlib.patches as patches\n",
    "import matplotlib.pyplot as plt\n",
    "import numpy as np\n",
    "import os\n",
    "import random\n",
    "\n",
    "from aero_optim.geom import split_profile\n",
    "from aero_optim.ffd.ffd import FFD_2D, RotationWrapper"
   ]
  },
  {
   "cell_type": "markdown",
   "metadata": {},
   "source": [
    "The plotting function is defined as"
   ]
  },
  {
   "cell_type": "code",
   "execution_count": null,
   "metadata": {},
   "outputs": [],
   "source": [
    "plt.rcParams.update({\n",
    "    \"text.usetex\": True,\n",
    "    \"font.family\": \"Times\",\n",
    "    \"figure.dpi\": 300,\n",
    "    \"font.size\": 8,\n",
    "    'legend.fontsize': 8, \n",
    "    \"axes.titlesize\": 8,\n",
    "    \"axes.labelsize\": 8\n",
    "    })\n",
    "\n",
    "def plot_max_min_profile(ffd: FFD_2D, bounds: tuple[float], ncontrol: int, outdir: str):\n",
    "    \"\"\"\n",
    "    Plots the highest and lowest deformations.\n",
    "    \"\"\"\n",
    "    min_profile = ffd.apply_ffd(np.array([bounds[0]] * 2 * ncontrol))\n",
    "    upper_min, lower_min = split_profile(min_profile)\n",
    "    max_profile = ffd.apply_ffd(np.array([bounds[-1]] * 2 * ncontrol))\n",
    "    upper_max, lower_max = split_profile(max_profile)\n",
    "    upper_pro, lower_pro = split_profile(ffd.pts)\n",
    "    width = ffd.max_x - ffd.min_x\n",
    "    height = ffd.max_y - ffd.min_y\n",
    "    # Figure\n",
    "    fig = plt.figure(figsize=(6.5, 4))\n",
    "    fig.subplots_adjust(hspace=1.5, wspace=2)\n",
    "    gs = gridspec.GridSpec(2, 4, figure=fig)\n",
    "    ax1 = plt.subplot(gs[0, 1:3])\n",
    "    ax2 = plt.subplot(gs[1, :2])\n",
    "    ax3 = plt.subplot(gs[1, 2:])\n",
    "    # ax1\n",
    "    ax1.plot(ffd.pts[:, 0], ffd.pts[:, 1], label=\"baseline profile\", color=\"k\", linewidth=1)\n",
    "    ax1.plot(min_profile[:, 0], min_profile[:, 1], label=f\"min profile\", color=\"b\", linewidth=1)\n",
    "    ax1.plot(max_profile[:, 0], max_profile[:, 1], label=f\"max profile\", color=\"r\", linewidth=1)\n",
    "    ax1.fill_between(lower_min[:, 0], lower_min[:, 1], lower_max[:, 1], color=\"b\", alpha=0.1)\n",
    "    ax1.fill_between(upper_max[:, 0], upper_min[:, 1], upper_max[:, 1], color=\"r\", alpha=0.1)\n",
    "    # ax2\n",
    "    delta = ffd.pad_Delta(np.array([bounds[0]] * 2 * ncontrol))\n",
    "    lat_pts_x = [ffd.from_lat([i / ffd.L, j / ffd.M] + ffd.dPij(i, j, delta))[0] for j in range(ffd.M + 1) for i in range(ffd.L + 1)]\n",
    "    lat_pts_y = [ffd.from_lat([i / ffd.L, j / ffd.M] + ffd.dPij(i, j, delta))[1] for j in range(ffd.M + 1) for i in range(ffd.L + 1)]\n",
    "    ax2.add_patch(patches.Rectangle((ffd.x1[0], ffd.x1[1]), width, height, angle=0.0, linewidth=1, edgecolor=\"grey\", facecolor=\"none\", label=\"lattice\"))\n",
    "    ax2.plot(lat_pts_x[:ncontrol + 2], lat_pts_y[:ncontrol + 2], linewidth=1, linestyle=\"dashed\", marker=\"s\", markersize=5, color=\"grey\")\n",
    "    ax2.plot(lat_pts_x[-(ncontrol + 2):], lat_pts_y[-(ncontrol + 2):], linewidth=1, linestyle=\"dashed\", marker=\"s\", markersize=5, color=\"grey\")\n",
    "    ax2.plot(ffd.pts[:, 0], ffd.pts[:, 1], label=\"baseline profile\", color=\"k\", linewidth=1)\n",
    "    ax2.plot(min_profile[:, 0], min_profile[:, 1], label=f\"min profile\", color=\"b\", linewidth=1)\n",
    "    ax2.fill(min_profile[:, 0], min_profile[:, 1], label=f\"min profile\", color=\"b\", alpha=0.1)\n",
    "    # ax3\n",
    "    delta = ffd.pad_Delta(np.array([bounds[-1]] * 2 * ncontrol))\n",
    "    lat_pts_x = [ffd.from_lat([i / ffd.L, j / ffd.M] + ffd.dPij(i, j, delta))[0] for j in range(ffd.M + 1) for i in range(ffd.L + 1)]\n",
    "    lat_pts_y = [ffd.from_lat([i / ffd.L, j / ffd.M] + ffd.dPij(i, j, delta))[1] for j in range(ffd.M + 1) for i in range(ffd.L + 1)]\n",
    "    ax3.add_patch(patches.Rectangle((ffd.x1[0], ffd.x1[1]), width, height, angle=0.0, linewidth=1, edgecolor=\"grey\", facecolor=\"none\", label=\"lattice\"))\n",
    "    ax3.plot(lat_pts_x[:ncontrol + 2], lat_pts_y[:ncontrol + 2], linewidth=1, linestyle=\"dashed\", marker=\"s\", markersize=5, color=\"grey\")\n",
    "    ax3.plot(lat_pts_x[-(ncontrol + 2):], lat_pts_y[-(ncontrol + 2):], linewidth=1, linestyle=\"dashed\", marker=\"s\", markersize=5, color=\"grey\")\n",
    "    ax3.plot(ffd.pts[:, 0], ffd.pts[:, 1], label=\"baseline profile\", color=\"k\", linewidth=1)\n",
    "    ax3.plot(max_profile[:, 0], max_profile[:, 1], label=f\"max profile\", color=\"r\", linewidth=1)\n",
    "    ax3.fill(max_profile[:, 0], max_profile[:, 1], label=f\"max profile\", color=\"r\", alpha=0.1)\n",
    "    # plot lattice grid\n",
    "    ax1.set(xlabel=\"$x$ [m]\", ylabel=\"$y$ [m]\", title=\"a) Design space\")\n",
    "    ax2.set(xlabel=\"$x$ [m]\", ylabel=\"$y$ [m]\", title=\"b) Lower bound deformation\")\n",
    "    ax3.set(xlabel=\"$x$ [m]\", ylabel=\"$y$ [m]\", title=\"c) Upper bound deformation\")\n",
    "    # legend and display\n",
    "    plt.tight_layout()\n",
    "    plt.savefig(os.path.join(outdir, \"FFD.pdf\"), bbox_inches=\"tight\")\n",
    "    plt.show()"
   ]
  },
  {
   "cell_type": "markdown",
   "metadata": {},
   "source": [
    "The notebook input variables are:\n",
    "\n",
    "- `ncontrol` the number of FFD control points on each side of the lattice box\n",
    "- `bounds` the deformation boundaries\n",
    "- `file` the path to the file containing the geometry coordinates\n",
    "\n",
    "**Note**: the number of FFD design variables is `2 * ncontrol`"
   ]
  },
  {
   "cell_type": "code",
   "execution_count": null,
   "metadata": {},
   "outputs": [],
   "source": [
    "ncontrol = 4\n",
    "bounds = (-0.2, 0.2)\n",
    "file = \"../../examples/LRN-CASCADE/data/lrn_cascade.dat\""
   ]
  },
  {
   "cell_type": "code",
   "execution_count": null,
   "metadata": {},
   "outputs": [],
   "source": [
    "ffd = FFD_2D(file, ncontrol)"
   ]
  },
  {
   "cell_type": "markdown",
   "metadata": {},
   "source": [
    "The figure below illustrates the geometry and its maximal deformed profiles"
   ]
  },
  {
   "cell_type": "code",
   "execution_count": null,
   "metadata": {},
   "outputs": [],
   "source": [
    "plot_max_min_profile(ffd, bounds, ncontrol, os.getcwd())"
   ]
  },
  {
   "cell_type": "markdown",
   "metadata": {},
   "source": [
    "Roration wrapper"
   ]
  },
  {
   "cell_type": "code",
   "execution_count": null,
   "metadata": {},
   "outputs": [],
   "source": [
    "ffd_rot = RotationWrapper(ffd)"
   ]
  },
  {
   "cell_type": "markdown",
   "metadata": {},
   "source": [
    "The figure below illustrates the geometry and random rotations of the baseline"
   ]
  },
  {
   "cell_type": "code",
   "execution_count": null,
   "metadata": {},
   "outputs": [],
   "source": [
    "random.seed(123)\n",
    "fig, ax = plt.subplots(figsize=(5.2, 3.64))\n",
    "ax.plot(ffd_rot.pts[:, 0], ffd_rot.pts[:, 1], linestyle=\"dashed\", color=\"k\", label=\"baseline\")\n",
    "for ii in range(5):\n",
    "    delta = np.zeros(2 * ncontrol)\n",
    "    theta = -90 + 180 * random.random()\n",
    "    profile = ffd_rot.apply_ffd(np.append(delta, theta))\n",
    "    ax.plot(profile[:, 0], profile[:, 1], label=f\"$\\\\theta={theta:.2f}^\\circ$\")\n",
    "delta = np.append(np.ones(ncontrol) * bounds[0], np.ones(ncontrol) * bounds[1])\n",
    "profile = ffd_rot.apply_ffd(np.append(delta, 0.))\n",
    "ax.plot(profile[:, 0], profile[:, 1], label=f\"$\\\\theta=0^\\circ$\")\n",
    "ax.set(xlabel=\"$x$ [m]\", ylabel=\"$y$ [m]\", title=f\"FFD rotated profiles\")\n",
    "ax.legend()"
   ]
  }
 ],
 "metadata": {
  "kernelspec": {
   "display_name": ".devenv",
   "language": "python",
   "name": "python3"
  },
  "language_info": {
   "codemirror_mode": {
    "name": "ipython",
    "version": 3
   },
   "file_extension": ".py",
   "mimetype": "text/x-python",
   "name": "python",
   "nbconvert_exporter": "python",
   "pygments_lexer": "ipython3",
   "version": "3.12.3"
  }
 },
 "nbformat": 4,
 "nbformat_minor": 2
}
